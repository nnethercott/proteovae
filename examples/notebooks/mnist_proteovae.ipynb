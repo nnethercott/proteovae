{
 "cells": [
  {
   "cell_type": "code",
   "execution_count": null,
   "metadata": {},
   "outputs": [],
   "source": [
    "!pip install proteovae"
   ]
  },
  {
   "cell_type": "code",
   "execution_count": 23,
   "metadata": {},
   "outputs": [],
   "source": [
    "from proteovae.models import *\n",
    "import proteovae.models.base as base\n",
    "from torchvision import datasets\n",
    "from torchvision.transforms import ToTensor, Compose, Lambda \n",
    "from torch.utils.data import DataLoader \n",
    "import torch \n",
    "from torch import nn "
   ]
  },
  {
   "cell_type": "code",
   "execution_count": 19,
   "metadata": {},
   "outputs": [],
   "source": [
    "training_data = datasets.FashionMNIST(\n",
    "    root=\"data\",\n",
    "    train=True,\n",
    "    download=True,\n",
    "    transform= Compose([ToTensor(), Lambda(lambda x: torch.flatten(x))])\n",
    ")\n",
    "\n",
    "test_data = datasets.FashionMNIST(\n",
    "    root=\"data\",\n",
    "    train=False,\n",
    "    download=True,\n",
    "    transform= Compose([ToTensor(), Lambda(lambda x: torch.flatten(x))])\n",
    ")"
   ]
  },
  {
   "cell_type": "code",
   "execution_count": 22,
   "metadata": {},
   "outputs": [
    {
     "name": "stdout",
     "output_type": "stream",
     "text": [
      "torch.Size([64, 784])\n"
     ]
    }
   ],
   "source": [
    "train_dataloader = DataLoader(training_data, batch_size=64, shuffle=True)\n",
    "test_dataloader = DataLoader(test_data, batch_size=64, shuffle=True)\n",
    "\n",
    "print(next(iter(train_dataloader))[0].shape)"
   ]
  },
  {
   "cell_type": "code",
   "execution_count": 24,
   "metadata": {},
   "outputs": [],
   "source": [
    "config = GuidedConfig(\n",
    "    input_dim = 784, \n",
    "    latent_dim= 10,\n",
    "    device = \"cuda\" if torch.cuda.is_available() else \"cpu\",\n",
    "    guided_dim = 1,\n",
    "    eta = 0,\n",
    "    gamma = 0,\n",
    "    beta = 1.0\n",
    ")\n",
    "\n",
    "enc = base.Encoder(input_dim=config.input_dim, latent_dim=config.latent_dim, hidden_dims = [128,64,])\n",
    "\n",
    "class CustomDecoder(base.Decoder):\n",
    "    def __init__(self, **kwargs):\n",
    "        super().__init__(**kwargs)\n",
    "\n",
    "    def forward(self, x):\n",
    "        x = super().forward(x)\n",
    "        x = nn.functional.sigmoid(x)\n",
    "\n",
    "        return x\n",
    "    \n",
    "dec = CustomDecoder(output_dim = config.input_dim, latent_dim = config.latent_dim, hidden_dims = [64,128,])"
   ]
  },
  {
   "cell_type": "code",
   "execution_count": 25,
   "metadata": {},
   "outputs": [
    {
     "data": {
      "text/plain": [
       "GuidedVAE(\n",
       "  (encoder): Encoder(\n",
       "    (linear_block): Sequential(\n",
       "      (0): Linear(in_features=784, out_features=128, bias=True)\n",
       "      (1): ReLU()\n",
       "      (2): Linear(in_features=128, out_features=64, bias=True)\n",
       "      (3): ReLU()\n",
       "    )\n",
       "    (fc_mu): Linear(in_features=64, out_features=10, bias=True)\n",
       "    (fc_logvar): Linear(in_features=64, out_features=10, bias=True)\n",
       "  )\n",
       "  (decoder): CustomDecoder(\n",
       "    (linear_block): Sequential(\n",
       "      (0): Linear(in_features=10, out_features=64, bias=True)\n",
       "      (1): ReLU()\n",
       "      (2): Linear(in_features=64, out_features=128, bias=True)\n",
       "      (3): ReLU()\n",
       "      (4): Linear(in_features=128, out_features=784, bias=True)\n",
       "    )\n",
       "  )\n",
       "  (guide): Guide(\n",
       "    (classifier): Sequential(\n",
       "      (0): Linear(in_features=1, out_features=10, bias=True)\n",
       "    )\n",
       "  )\n",
       ")"
      ]
     },
     "execution_count": 25,
     "metadata": {},
     "output_type": "execute_result"
    }
   ],
   "source": [
    "model = GuidedVAE(\n",
    "    config = config,\n",
    "    encoder = enc, \n",
    "    decoder = dec,\n",
    "    guide = base.Guide(1,10)\n",
    ")\n",
    "model"
   ]
  },
  {
   "cell_type": "code",
   "execution_count": 26,
   "metadata": {},
   "outputs": [],
   "source": [
    "from proteovae.trainers import BaseTrainer\n",
    "\n",
    "optimizer = torch.optim.Adam(model.parameters(), lr=1e-03)\n",
    "\n",
    "trainer = BaseTrainer(model, optimizer)"
   ]
  },
  {
   "cell_type": "code",
   "execution_count": null,
   "metadata": {},
   "outputs": [],
   "source": []
  }
 ],
 "metadata": {
  "language_info": {
   "name": "python"
  },
  "orig_nbformat": 4
 },
 "nbformat": 4,
 "nbformat_minor": 2
}
