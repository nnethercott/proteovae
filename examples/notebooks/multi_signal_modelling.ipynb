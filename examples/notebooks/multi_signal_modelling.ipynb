{
 "cells": [
  {
   "cell_type": "markdown",
   "id": "ef22517c-f22f-4290-9489-24ad300323f0",
   "metadata": {},
   "source": [
    "# Multi signal modelling 👯\n",
    "\n",
    "This notebook illustrates how to init a `proteovae.models.MultiGuidedVAE` which allows for embeddings to be driven by multiple supervised factors in your dataset. "
   ]
  },
  {
   "cell_type": "code",
   "execution_count": 3,
   "id": "e1209b68-9aaa-43c8-9371-3a334d11074c",
   "metadata": {
    "tags": []
   },
   "outputs": [],
   "source": [
    "from proteovae.models import MultiGuidedVAE, MultiGuidedConfig \n",
    "from proteovae.models.base import Guide, Encoder, Decoder\n",
    "from proteovae.trainers import ScheduledTrainer\n",
    "import numpy as np "
   ]
  },
  {
   "cell_type": "markdown",
   "id": "c02287f6-4cfe-41fd-ae31-55040fceb116",
   "metadata": {},
   "source": [
    "First we'll need a dataset consisting of multiple labels assigned to samples.  For simplicity we'll randomly generate labels and data to show how to get the model up and running (it's hard to come up with a high p dataset and valid labelling ad hoc :p) "
   ]
  },
  {
   "cell_type": "code",
   "execution_count": 27,
   "id": "4e83ad7f-33b3-4ebd-8678-04a5cdbe6c7a",
   "metadata": {
    "tags": []
   },
   "outputs": [
    {
     "name": "stdout",
     "output_type": "stream",
     "text": [
      "data shape: (5000, 500), labels shape: (5000, 2)\n"
     ]
    }
   ],
   "source": [
    "nsamples = 5000\n",
    "nfeatures = 500 \n",
    "\n",
    "data = np.random.normal(size = (nsamples, nfeatures))\n",
    "\n",
    "labels_1 = np.random.randint(low = 0, high = 2, size = (nsamples,1)) #labels from categorical w/ 2 choices\n",
    "labels_2 = np.random.randint(low = 0, high = 5, size = (nsamples,1)) #labels from categorical w/ 5 choices\n",
    "\n",
    "labels = np.concatenate((labels_1, labels_2), axis=1)\n",
    "\n",
    "print(f'data shape: {data.shape}, labels shape: {labels.shape}')"
   ]
  },
  {
   "cell_type": "markdown",
   "id": "9fdda134-0b7d-4932-91c1-a673a0f96380",
   "metadata": {},
   "source": [
    "Now we prep the data in the standard fashion for pytorch model trainings; defining both training, validation, and test splits in torch `DataLoader`s\n",
    "\n",
    "To do this we need a torch-compatible class to introduce custom datasets"
   ]
  },
  {
   "cell_type": "code",
   "execution_count": 28,
   "id": "67542b4e-7853-4cb5-b6d0-1fc843f02fbf",
   "metadata": {
    "tags": []
   },
   "outputs": [],
   "source": [
    "# custom torch datasets just need to provide __len__ and __getitem__ methods ! \n",
    "class TorchDataset():\n",
    "    def __init__(self, data, labels):\n",
    "        self.data = torch.Tensor(data)\n",
    "        self.labels = torch.Tensor(labels)\n",
    "    \n",
    "    def __len__(self):\n",
    "        return len(self.data)\n",
    "    \n",
    "    def __getitem__(self, idx):\n",
    "        return self.data[idx],  self.labels[idx]"
   ]
  },
  {
   "cell_type": "code",
   "execution_count": 29,
   "id": "5333fb48-d36d-48b5-b811-bc9747160149",
   "metadata": {
    "tags": []
   },
   "outputs": [
    {
     "name": "stdout",
     "output_type": "stream",
     "text": [
      "shape of the bached labels: torch.Size([16, 2])\n"
     ]
    }
   ],
   "source": [
    "import torch \n",
    "from torch.utils.data import Dataset, DataLoader\n",
    "from torchvision.transforms import ToTensor\n",
    "from sklearn.model_selection import train_test_split \n",
    "\n",
    "batch_size = 16\n",
    "test_size = 0.2\n",
    "\n",
    "\n",
    "#train test split 1 \n",
    "X_train_val, X_test, Y_train_val, Y_test = train_test_split(data,labels, test_size=test_size)\n",
    "\n",
    "#train test split 2 \n",
    "X_train, X_val, Y_train, Y_val = train_test_split(X_train_val, Y_train_val, test_size=test_size)\n",
    "\n",
    "#loaders \n",
    "train_data = TorchDataset(X_train, Y_train) \n",
    "train_loader = DataLoader(train_data, batch_size=batch_size, shuffle=False)\n",
    "\n",
    "val_data = TorchDataset(X_val, Y_val) \n",
    "val_data = (val_data.data, val_data.labels)\n",
    "\n",
    "print(f'shape of the bached labels: {next(iter(train_loader))[1].shape}')"
   ]
  },
  {
   "cell_type": "markdown",
   "id": "5385819a-5f0e-4d3b-95f8-dce5335991b0",
   "metadata": {},
   "source": [
    "## Model training \n",
    "\n",
    "Here we'll again make some arbitrary choices in terms of latent dimension and capacity of the guided dimensions we wish to allocate for predicting supervised factors in the data.  For instance we can choose to allocate *m* neurons in the latent space to monitor label \\#1 and *n* neurons for the tracking of label \\#2"
   ]
  },
  {
   "cell_type": "code",
   "execution_count": 30,
   "id": "2ace3305-1e2f-4d0f-befa-b9fd9b9b9d00",
   "metadata": {
    "tags": []
   },
   "outputs": [],
   "source": [
    "# Model config \n",
    "input_dim = data.shape[1]\n",
    "device = \"cuda\" if torch.cuda.is_available() else \"cpu\"\n",
    "epochs = 200\n",
    "\n",
    "#here we reserve 1 neuron for label 1, and 3 neurons for label 2 out of the 16 available dimensions in the latent space \n",
    "latent_dim = 16\n",
    "guided_dims = [1,3] \n",
    "\n",
    "encoder_dims = (256, 128, ) \n",
    "decoder_dims = encoder_dims[::-1]\n",
    "\n",
    "\n",
    "model_config = MultiGuidedConfig(\n",
    "    input_dim = input_dim,\n",
    "    latent_dim = latent_dim,\n",
    "    device = device,\n",
    "    guided_dims = guided_dims,\n",
    ")"
   ]
  },
  {
   "cell_type": "markdown",
   "id": "422676cf-efd6-4cd2-95cd-3df7f6e6991e",
   "metadata": {},
   "source": [
    "Finally define a list of guides objects (either pure `nn.Module`s or `proteovae.models.base.Guide`s) and you're on your way"
   ]
  },
  {
   "cell_type": "code",
   "execution_count": 31,
   "id": "ea686210-4d70-43a0-b52a-9b79a9aa16f3",
   "metadata": {
    "tags": []
   },
   "outputs": [
    {
     "data": {
      "text/plain": [
       "MultiGuidedVAE(\n",
       "  (encoder): Encoder(\n",
       "    (linear_block): Sequential(\n",
       "      (0): Linear(in_features=500, out_features=256, bias=True)\n",
       "      (1): ReLU()\n",
       "      (2): Linear(in_features=256, out_features=128, bias=True)\n",
       "      (3): ReLU()\n",
       "    )\n",
       "    (fc_mu): Linear(in_features=128, out_features=16, bias=True)\n",
       "    (fc_logvar): Linear(in_features=128, out_features=16, bias=True)\n",
       "  )\n",
       "  (decoder): Decoder(\n",
       "    (linear_block): Sequential(\n",
       "      (0): Linear(in_features=16, out_features=128, bias=True)\n",
       "      (1): ReLU()\n",
       "      (2): Linear(in_features=128, out_features=256, bias=True)\n",
       "      (3): ReLU()\n",
       "      (4): Linear(in_features=256, out_features=500, bias=True)\n",
       "    )\n",
       "  )\n",
       "  (guides): ModuleList(\n",
       "    (0): Guide(\n",
       "      (classifier): Sequential(\n",
       "        (0): Linear(in_features=1, out_features=2, bias=True)\n",
       "      )\n",
       "    )\n",
       "    (1): Guide(\n",
       "      (classifier): Sequential(\n",
       "        (0): Linear(in_features=3, out_features=5, bias=True)\n",
       "      )\n",
       "    )\n",
       "  )\n",
       ")"
      ]
     },
     "execution_count": 31,
     "metadata": {},
     "output_type": "execute_result"
    }
   ],
   "source": [
    "#recall the number of choices for each labelled factor ! \n",
    "guides = [Guide(model_config.guided_dims[0], 2),\n",
    "          Guide(model_config.guided_dims[1], 5)]\n",
    "\n",
    "model = MultiGuidedVAE(\n",
    "    config = model_config,\n",
    "    encoder = Encoder(model_config.input_dim, model_config.latent_dim, encoder_dims), \n",
    "    decoder = Decoder(model_config.input_dim, model_config.latent_dim, decoder_dims),\n",
    "    guides = guides \n",
    ")\n",
    "\n",
    "model "
   ]
  },
  {
   "cell_type": "markdown",
   "id": "9695ad53-563a-4729-82e7-4c796bfb6f14",
   "metadata": {
    "tags": []
   },
   "source": [
    "**note:** the list of guides gets converted to a `nn.ModuleList` so the parameters of each guide get updated by the loss objective!"
   ]
  },
  {
   "cell_type": "markdown",
   "id": "24235d4d-c441-4205-af99-e43d3bec09a0",
   "metadata": {},
   "source": [
    "## Training "
   ]
  },
  {
   "cell_type": "code",
   "execution_count": 32,
   "id": "7c70f434-df7d-4998-90ac-5601b9571702",
   "metadata": {
    "tags": []
   },
   "outputs": [],
   "source": [
    "optimizer = torch.optim.Adam(model.parameters(), lr=1e-03)\n",
    "scheduler = torch.optim.lr_scheduler.LambdaLR(optimizer, lambda e: max(0.95**(e), 5e-03), last_epoch=- 1)\n",
    "\n",
    "trainer = ScheduledTrainer(model, optimizer, scheduler)"
   ]
  },
  {
   "cell_type": "code",
   "execution_count": 34,
   "id": "1096d9c5-8746-491d-820c-e20107f4b5f1",
   "metadata": {
    "scrolled": true,
    "tags": []
   },
   "outputs": [],
   "source": [
    "trainer.train(train_loader, epochs=epochs, val_data = val_data)"
   ]
  },
  {
   "cell_type": "markdown",
   "id": "bcf2beb4-a7d3-48f3-b9f5-3be693674064",
   "metadata": {},
   "source": [
    "## post-analysis \n",
    "To check the quality/informativeness of the embeddings we can embed the test set data and fit some vanilla sklearn models to see how (un)predictive each of the guided dimensions are for the associated labels. \n",
    "\n",
    "In our case labels are random so we expect random predictive performance at best "
   ]
  },
  {
   "cell_type": "code",
   "execution_count": 38,
   "id": "6d693e66-683e-4fcb-9fc6-d2a60053e10c",
   "metadata": {
    "tags": []
   },
   "outputs": [
    {
     "name": "stdout",
     "output_type": "stream",
     "text": [
      "(1000, 16) (1000, 2)\n"
     ]
    }
   ],
   "source": [
    "zs = model.embed(torch.tensor(X_test, device = device, dtype=torch.float32))\n",
    "\n",
    "zs = zs.cpu().detach().numpy()   \n",
    "\n",
    "y = Y_test\n",
    "    \n",
    "print(zs.shape, y.shape)"
   ]
  },
  {
   "cell_type": "code",
   "execution_count": null,
   "id": "110f964b-a11b-4f8a-b2a3-190c4f9c1b97",
   "metadata": {},
   "outputs": [],
   "source": [
    "#!pip install lazypredict "
   ]
  },
  {
   "cell_type": "code",
   "execution_count": 43,
   "id": "858c16b0-f5bb-400b-8875-8aab30319437",
   "metadata": {
    "tags": []
   },
   "outputs": [
    {
     "name": "stdout",
     "output_type": "stream",
     "text": [
      "(1000, 13)\n"
     ]
    }
   ],
   "source": [
    "from lazypredict.Supervised import LazyClassifier\n",
    "\n",
    "#choose a factor (indexed base 0)\n",
    "i = 1 \n",
    "#recall that guided latent dimensions are allocated in the final neurons of the embedding dimensions ... \n",
    "l = model.latent_dim-1\n",
    "\n",
    "#latents without guided dimensions for factor of interest\n",
    "sz = np.hstack((zs[:, :l-model.guided_dims[i+1]], zs[:, l-model.guided_dims[i]:]))\n",
    "\n",
    "#latents corresponding to factor of interest \n",
    "szz = zs[:,l-model.guided_dims[i+1]:l-model.guided_dims[i]]\n",
    "\n",
    "\n",
    "print(sz.shape)"
   ]
  },
  {
   "cell_type": "markdown",
   "id": "fe582e9e-62f6-485a-8a52-8adbf2a594a4",
   "metadata": {},
   "source": [
    "You can now check that the latents without the guided neurons are uninformative for the signal of interest, and simultaneously check that the guided latents themselves **are** informative"
   ]
  },
  {
   "cell_type": "code",
   "execution_count": 41,
   "id": "d2175908-44a3-4883-b3dc-ac8b740ad934",
   "metadata": {},
   "outputs": [
    {
     "name": "stderr",
     "output_type": "stream",
     "text": [
      "100%|██████████| 29/29 [00:02<00:00, 13.24it/s]\n"
     ]
    },
    {
     "data": {
      "text/html": [
       "<div>\n",
       "<style scoped>\n",
       "    .dataframe tbody tr th:only-of-type {\n",
       "        vertical-align: middle;\n",
       "    }\n",
       "\n",
       "    .dataframe tbody tr th {\n",
       "        vertical-align: top;\n",
       "    }\n",
       "\n",
       "    .dataframe thead th {\n",
       "        text-align: right;\n",
       "    }\n",
       "</style>\n",
       "<table border=\"1\" class=\"dataframe\">\n",
       "  <thead>\n",
       "    <tr style=\"text-align: right;\">\n",
       "      <th></th>\n",
       "      <th>Accuracy</th>\n",
       "      <th>Balanced Accuracy</th>\n",
       "      <th>ROC AUC</th>\n",
       "      <th>F1 Score</th>\n",
       "      <th>Time Taken</th>\n",
       "    </tr>\n",
       "    <tr>\n",
       "      <th>Model</th>\n",
       "      <th></th>\n",
       "      <th></th>\n",
       "      <th></th>\n",
       "      <th></th>\n",
       "      <th></th>\n",
       "    </tr>\n",
       "  </thead>\n",
       "  <tbody>\n",
       "    <tr>\n",
       "      <th>Perceptron</th>\n",
       "      <td>0.22</td>\n",
       "      <td>0.22</td>\n",
       "      <td>None</td>\n",
       "      <td>0.17</td>\n",
       "      <td>0.01</td>\n",
       "    </tr>\n",
       "    <tr>\n",
       "      <th>BaggingClassifier</th>\n",
       "      <td>0.21</td>\n",
       "      <td>0.22</td>\n",
       "      <td>None</td>\n",
       "      <td>0.21</td>\n",
       "      <td>0.05</td>\n",
       "    </tr>\n",
       "    <tr>\n",
       "      <th>SVC</th>\n",
       "      <td>0.21</td>\n",
       "      <td>0.21</td>\n",
       "      <td>None</td>\n",
       "      <td>0.17</td>\n",
       "      <td>0.04</td>\n",
       "    </tr>\n",
       "    <tr>\n",
       "      <th>ExtraTreesClassifier</th>\n",
       "      <td>0.21</td>\n",
       "      <td>0.21</td>\n",
       "      <td>None</td>\n",
       "      <td>0.21</td>\n",
       "      <td>0.14</td>\n",
       "    </tr>\n",
       "    <tr>\n",
       "      <th>LGBMClassifier</th>\n",
       "      <td>0.21</td>\n",
       "      <td>0.21</td>\n",
       "      <td>None</td>\n",
       "      <td>0.21</td>\n",
       "      <td>0.29</td>\n",
       "    </tr>\n",
       "    <tr>\n",
       "      <th>KNeighborsClassifier</th>\n",
       "      <td>0.21</td>\n",
       "      <td>0.21</td>\n",
       "      <td>None</td>\n",
       "      <td>0.20</td>\n",
       "      <td>0.02</td>\n",
       "    </tr>\n",
       "    <tr>\n",
       "      <th>RandomForestClassifier</th>\n",
       "      <td>0.21</td>\n",
       "      <td>0.21</td>\n",
       "      <td>None</td>\n",
       "      <td>0.20</td>\n",
       "      <td>0.21</td>\n",
       "    </tr>\n",
       "    <tr>\n",
       "      <th>BernoulliNB</th>\n",
       "      <td>0.20</td>\n",
       "      <td>0.21</td>\n",
       "      <td>None</td>\n",
       "      <td>0.17</td>\n",
       "      <td>0.01</td>\n",
       "    </tr>\n",
       "    <tr>\n",
       "      <th>DecisionTreeClassifier</th>\n",
       "      <td>0.21</td>\n",
       "      <td>0.21</td>\n",
       "      <td>None</td>\n",
       "      <td>0.20</td>\n",
       "      <td>0.01</td>\n",
       "    </tr>\n",
       "    <tr>\n",
       "      <th>GaussianNB</th>\n",
       "      <td>0.20</td>\n",
       "      <td>0.21</td>\n",
       "      <td>None</td>\n",
       "      <td>0.18</td>\n",
       "      <td>0.01</td>\n",
       "    </tr>\n",
       "    <tr>\n",
       "      <th>LinearSVC</th>\n",
       "      <td>0.20</td>\n",
       "      <td>0.20</td>\n",
       "      <td>None</td>\n",
       "      <td>0.15</td>\n",
       "      <td>0.11</td>\n",
       "    </tr>\n",
       "    <tr>\n",
       "      <th>RidgeClassifier</th>\n",
       "      <td>0.20</td>\n",
       "      <td>0.20</td>\n",
       "      <td>None</td>\n",
       "      <td>0.15</td>\n",
       "      <td>0.01</td>\n",
       "    </tr>\n",
       "    <tr>\n",
       "      <th>NearestCentroid</th>\n",
       "      <td>0.19</td>\n",
       "      <td>0.20</td>\n",
       "      <td>None</td>\n",
       "      <td>0.15</td>\n",
       "      <td>0.01</td>\n",
       "    </tr>\n",
       "    <tr>\n",
       "      <th>SGDClassifier</th>\n",
       "      <td>0.21</td>\n",
       "      <td>0.20</td>\n",
       "      <td>None</td>\n",
       "      <td>0.17</td>\n",
       "      <td>0.01</td>\n",
       "    </tr>\n",
       "    <tr>\n",
       "      <th>QuadraticDiscriminantAnalysis</th>\n",
       "      <td>0.21</td>\n",
       "      <td>0.20</td>\n",
       "      <td>None</td>\n",
       "      <td>0.13</td>\n",
       "      <td>0.01</td>\n",
       "    </tr>\n",
       "    <tr>\n",
       "      <th>CalibratedClassifierCV</th>\n",
       "      <td>0.18</td>\n",
       "      <td>0.20</td>\n",
       "      <td>None</td>\n",
       "      <td>0.08</td>\n",
       "      <td>0.46</td>\n",
       "    </tr>\n",
       "    <tr>\n",
       "      <th>DummyClassifier</th>\n",
       "      <td>0.18</td>\n",
       "      <td>0.20</td>\n",
       "      <td>None</td>\n",
       "      <td>0.05</td>\n",
       "      <td>0.01</td>\n",
       "    </tr>\n",
       "    <tr>\n",
       "      <th>XGBClassifier</th>\n",
       "      <td>0.20</td>\n",
       "      <td>0.20</td>\n",
       "      <td>None</td>\n",
       "      <td>0.20</td>\n",
       "      <td>0.51</td>\n",
       "    </tr>\n",
       "    <tr>\n",
       "      <th>LinearDiscriminantAnalysis</th>\n",
       "      <td>0.19</td>\n",
       "      <td>0.20</td>\n",
       "      <td>None</td>\n",
       "      <td>0.15</td>\n",
       "      <td>0.01</td>\n",
       "    </tr>\n",
       "    <tr>\n",
       "      <th>ExtraTreeClassifier</th>\n",
       "      <td>0.19</td>\n",
       "      <td>0.20</td>\n",
       "      <td>None</td>\n",
       "      <td>0.19</td>\n",
       "      <td>0.01</td>\n",
       "    </tr>\n",
       "    <tr>\n",
       "      <th>RidgeClassifierCV</th>\n",
       "      <td>0.19</td>\n",
       "      <td>0.20</td>\n",
       "      <td>None</td>\n",
       "      <td>0.14</td>\n",
       "      <td>0.01</td>\n",
       "    </tr>\n",
       "    <tr>\n",
       "      <th>LabelSpreading</th>\n",
       "      <td>0.19</td>\n",
       "      <td>0.20</td>\n",
       "      <td>None</td>\n",
       "      <td>0.18</td>\n",
       "      <td>0.02</td>\n",
       "    </tr>\n",
       "    <tr>\n",
       "      <th>AdaBoostClassifier</th>\n",
       "      <td>0.19</td>\n",
       "      <td>0.19</td>\n",
       "      <td>None</td>\n",
       "      <td>0.18</td>\n",
       "      <td>0.12</td>\n",
       "    </tr>\n",
       "    <tr>\n",
       "      <th>LogisticRegression</th>\n",
       "      <td>0.18</td>\n",
       "      <td>0.19</td>\n",
       "      <td>None</td>\n",
       "      <td>0.14</td>\n",
       "      <td>0.02</td>\n",
       "    </tr>\n",
       "    <tr>\n",
       "      <th>LabelPropagation</th>\n",
       "      <td>0.18</td>\n",
       "      <td>0.19</td>\n",
       "      <td>None</td>\n",
       "      <td>0.18</td>\n",
       "      <td>0.01</td>\n",
       "    </tr>\n",
       "    <tr>\n",
       "      <th>NuSVC</th>\n",
       "      <td>0.18</td>\n",
       "      <td>0.19</td>\n",
       "      <td>None</td>\n",
       "      <td>0.17</td>\n",
       "      <td>0.06</td>\n",
       "    </tr>\n",
       "    <tr>\n",
       "      <th>PassiveAggressiveClassifier</th>\n",
       "      <td>0.18</td>\n",
       "      <td>0.17</td>\n",
       "      <td>None</td>\n",
       "      <td>0.16</td>\n",
       "      <td>0.01</td>\n",
       "    </tr>\n",
       "  </tbody>\n",
       "</table>\n",
       "</div>"
      ],
      "text/plain": [
       "                               Accuracy  Balanced Accuracy ROC AUC  F1 Score  \\\n",
       "Model                                                                          \n",
       "Perceptron                         0.22               0.22    None      0.17   \n",
       "BaggingClassifier                  0.21               0.22    None      0.21   \n",
       "SVC                                0.21               0.21    None      0.17   \n",
       "ExtraTreesClassifier               0.21               0.21    None      0.21   \n",
       "LGBMClassifier                     0.21               0.21    None      0.21   \n",
       "KNeighborsClassifier               0.21               0.21    None      0.20   \n",
       "RandomForestClassifier             0.21               0.21    None      0.20   \n",
       "BernoulliNB                        0.20               0.21    None      0.17   \n",
       "DecisionTreeClassifier             0.21               0.21    None      0.20   \n",
       "GaussianNB                         0.20               0.21    None      0.18   \n",
       "LinearSVC                          0.20               0.20    None      0.15   \n",
       "RidgeClassifier                    0.20               0.20    None      0.15   \n",
       "NearestCentroid                    0.19               0.20    None      0.15   \n",
       "SGDClassifier                      0.21               0.20    None      0.17   \n",
       "QuadraticDiscriminantAnalysis      0.21               0.20    None      0.13   \n",
       "CalibratedClassifierCV             0.18               0.20    None      0.08   \n",
       "DummyClassifier                    0.18               0.20    None      0.05   \n",
       "XGBClassifier                      0.20               0.20    None      0.20   \n",
       "LinearDiscriminantAnalysis         0.19               0.20    None      0.15   \n",
       "ExtraTreeClassifier                0.19               0.20    None      0.19   \n",
       "RidgeClassifierCV                  0.19               0.20    None      0.14   \n",
       "LabelSpreading                     0.19               0.20    None      0.18   \n",
       "AdaBoostClassifier                 0.19               0.19    None      0.18   \n",
       "LogisticRegression                 0.18               0.19    None      0.14   \n",
       "LabelPropagation                   0.18               0.19    None      0.18   \n",
       "NuSVC                              0.18               0.19    None      0.17   \n",
       "PassiveAggressiveClassifier        0.18               0.17    None      0.16   \n",
       "\n",
       "                               Time Taken  \n",
       "Model                                      \n",
       "Perceptron                           0.01  \n",
       "BaggingClassifier                    0.05  \n",
       "SVC                                  0.04  \n",
       "ExtraTreesClassifier                 0.14  \n",
       "LGBMClassifier                       0.29  \n",
       "KNeighborsClassifier                 0.02  \n",
       "RandomForestClassifier               0.21  \n",
       "BernoulliNB                          0.01  \n",
       "DecisionTreeClassifier               0.01  \n",
       "GaussianNB                           0.01  \n",
       "LinearSVC                            0.11  \n",
       "RidgeClassifier                      0.01  \n",
       "NearestCentroid                      0.01  \n",
       "SGDClassifier                        0.01  \n",
       "QuadraticDiscriminantAnalysis        0.01  \n",
       "CalibratedClassifierCV               0.46  \n",
       "DummyClassifier                      0.01  \n",
       "XGBClassifier                        0.51  \n",
       "LinearDiscriminantAnalysis           0.01  \n",
       "ExtraTreeClassifier                  0.01  \n",
       "RidgeClassifierCV                    0.01  \n",
       "LabelSpreading                       0.02  \n",
       "AdaBoostClassifier                   0.12  \n",
       "LogisticRegression                   0.02  \n",
       "LabelPropagation                     0.01  \n",
       "NuSVC                                0.06  \n",
       "PassiveAggressiveClassifier          0.01  "
      ]
     },
     "execution_count": 41,
     "metadata": {},
     "output_type": "execute_result"
    }
   ],
   "source": [
    "X_train_lazy, X_test_lazy, y_train_lazy, y_test_lazy = train_test_split(sz, y[:,i], test_size= 0.5)\n",
    "lazy_clf = LazyClassifier(verbose=0,ignore_warnings=True, custom_metric=None)\n",
    "models,predictions = lazy_clf.fit(X_train_lazy, X_test_lazy, y_train_lazy, y_test_lazy)\n",
    "\n",
    "#view \n",
    "models "
   ]
  },
  {
   "cell_type": "code",
   "execution_count": null,
   "id": "82fb2bf8-4b2b-4c58-b501-287961c43dd8",
   "metadata": {},
   "outputs": [],
   "source": []
  }
 ],
 "metadata": {
  "kernelspec": {
   "display_name": "Python 3 (ipykernel)",
   "language": "python",
   "name": "python3"
  },
  "language_info": {
   "codemirror_mode": {
    "name": "ipython",
    "version": 3
   },
   "file_extension": ".py",
   "mimetype": "text/x-python",
   "name": "python",
   "nbconvert_exporter": "python",
   "pygments_lexer": "ipython3",
   "version": "3.10.8"
  }
 },
 "nbformat": 4,
 "nbformat_minor": 5
}
