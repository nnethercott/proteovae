{
 "cells": [
  {
   "cell_type": "code",
   "execution_count": 12,
   "metadata": {},
   "outputs": [],
   "source": [
    "from proteovae.models.base import Encoder, Guide, Decoder\n",
    "from proteovae.models import GuidedConfig, GuidedVAE\n",
    "\n",
    "import torch \n",
    "import torch.nn as nn\n"
   ]
  },
  {
   "attachments": {},
   "cell_type": "markdown",
   "metadata": {},
   "source": [
    "specify the configuration of the guided model "
   ]
  },
  {
   "cell_type": "code",
   "execution_count": 10,
   "metadata": {},
   "outputs": [],
   "source": [
    "input_dim = 32\n",
    "latent_dim = 10\n",
    "guided_dim = 1\n",
    "\n",
    "g = GuidedConfig(input_dim = input_dim, latent_dim = latent_dim, guided_dim = guided_dim)"
   ]
  },
  {
   "cell_type": "code",
   "execution_count": 11,
   "metadata": {},
   "outputs": [
    {
     "data": {
      "text/plain": [
       "Encoder(\n",
       "  (linear_block): Sequential(\n",
       "    (0): Linear(in_features=32, out_features=16, bias=True)\n",
       "    (1): ReLU()\n",
       "  )\n",
       "  (fc_mu): Linear(in_features=16, out_features=10, bias=True)\n",
       "  (fc_logvar): Linear(in_features=16, out_features=10, bias=True)\n",
       ")"
      ]
     },
     "execution_count": 11,
     "metadata": {},
     "output_type": "execute_result"
    }
   ],
   "source": [
    "enc = Encoder(input_dim = input_dim, latent_dim=latent_dim, hidden_dims = [16,])\n",
    "enc"
   ]
  },
  {
   "cell_type": "code",
   "execution_count": 16,
   "metadata": {},
   "outputs": [
    {
     "data": {
      "text/plain": [
       "CustomDecoder(\n",
       "  (fwd_block): Sequential(\n",
       "    (0): Linear(in_features=10, out_features=20, bias=True)\n",
       "    (1): ReLU()\n",
       "    (2): Linear(in_features=20, out_features=32, bias=True)\n",
       "  )\n",
       ")"
      ]
     },
     "execution_count": 16,
     "metadata": {},
     "output_type": "execute_result"
    }
   ],
   "source": [
    "class CustomDecoder(nn.Module):\n",
    "    def __init__(self, **kwargs):\n",
    "        super().__init__(**kwargs)\n",
    "        self.fwd_block = nn.Sequential(\n",
    "            nn.Linear(latent_dim, 2*latent_dim),\n",
    "            nn.Tanh(),\n",
    "            nn.Linear(2*latent_dim, input_dim),\n",
    "        )\n",
    "\n",
    "    def forward(self, x):\n",
    "        return self.fwd_block(x)\n",
    "    \n",
    "\n",
    "custom_dec = CustomDecoder()\n",
    "custom_dec"
   ]
  },
  {
   "cell_type": "code",
   "execution_count": 19,
   "metadata": {},
   "outputs": [
    {
     "data": {
      "text/plain": [
       "GuidedVAE(\n",
       "  (encoder): Encoder(\n",
       "    (linear_block): Sequential(\n",
       "      (0): Linear(in_features=32, out_features=16, bias=True)\n",
       "      (1): ReLU()\n",
       "    )\n",
       "    (fc_mu): Linear(in_features=16, out_features=10, bias=True)\n",
       "    (fc_logvar): Linear(in_features=16, out_features=10, bias=True)\n",
       "  )\n",
       "  (decoder): CustomDecoder(\n",
       "    (fwd_block): Sequential(\n",
       "      (0): Linear(in_features=10, out_features=20, bias=True)\n",
       "      (1): ReLU()\n",
       "      (2): Linear(in_features=20, out_features=32, bias=True)\n",
       "    )\n",
       "  )\n",
       "  (guide): Guide(\n",
       "    (classifier): Sequential(\n",
       "      (0): Linear(in_features=1, out_features=2, bias=True)\n",
       "    )\n",
       "  )\n",
       ")"
      ]
     },
     "execution_count": 19,
     "metadata": {},
     "output_type": "execute_result"
    }
   ],
   "source": [
    "guided_vae = GuidedVAE(config = g, encoder = enc, decoder = custom_dec, guide = Guide(1, 2))\n",
    "guided_vae"
   ]
  },
  {
   "cell_type": "code",
   "execution_count": null,
   "metadata": {},
   "outputs": [],
   "source": []
  }
 ],
 "metadata": {
  "kernelspec": {
   "display_name": "massi",
   "language": "python",
   "name": "python3"
  },
  "language_info": {
   "codemirror_mode": {
    "name": "ipython",
    "version": 3
   },
   "file_extension": ".py",
   "mimetype": "text/x-python",
   "name": "python",
   "nbconvert_exporter": "python",
   "pygments_lexer": "ipython3",
   "version": "3.10.4"
  },
  "orig_nbformat": 4
 },
 "nbformat": 4,
 "nbformat_minor": 2
}
